{
 "cells": [
  {
   "cell_type": "code",
   "execution_count": 7,
   "metadata": {},
   "outputs": [],
   "source": [
    "import random\n",
    "import pandas as pd\n",
    "import numpy as np\n",
    "from numpy import atleast_2d\n",
    "import matplotlib.pyplot as plt\n",
    "from matplotlib import cm\n",
    "from sklearn.cluster import KMeans\n",
    "from sklearn.datasets.samples_generator import make_blobs\n",
    "from sklearn import metrics\n",
    "from sklearn.metrics import silhouette_samples, silhouette_score\n",
    "from sklearn import preprocessing\n",
    "from sklearn.preprocessing import StandardScaler\n",
    "from sklearn.model_selection import train_test_split\n",
    "from sklearn.decomposition import PCA\n",
    "from sklearn.decomposition import FastICA\n",
    "from sklearn.mixture import GaussianMixture\n",
    "from sklearn.metrics import adjusted_mutual_info_score\n",
    "from sklearn.decomposition import TruncatedSVD \n",
    "from sklearn import random_projection\n",
    "from sklearn.neural_network import MLPClassifier\n",
    "from sklearn.metrics import classification_report,confusion_matrix\n",
    "from sklearn.metrics import f1_score\n",
    "from sklearn.metrics import jaccard_similarity_score\n",
    "from sklearn.model_selection import cross_val_score\n",
    "import seaborn as sns; sns.set()  # for plot styling\n",
    "from mpl_toolkits.mplot3d import Axes3D\n",
    "import math\n",
    "from scipy.spatial.distance import cdist\n",
    "import warnings\n",
    "%matplotlib inline"
   ]
  },
  {
   "cell_type": "code",
   "execution_count": 2,
   "metadata": {},
   "outputs": [],
   "source": [
    "warnings.filterwarnings('ignore')"
   ]
  },
  {
   "cell_type": "markdown",
   "metadata": {},
   "source": [
    "Load the Drug Study data"
   ]
  },
  {
   "cell_type": "code",
   "execution_count": 3,
   "metadata": {},
   "outputs": [
    {
     "data": {
      "text/html": [
       "<div>\n",
       "<style scoped>\n",
       "    .dataframe tbody tr th:only-of-type {\n",
       "        vertical-align: middle;\n",
       "    }\n",
       "\n",
       "    .dataframe tbody tr th {\n",
       "        vertical-align: top;\n",
       "    }\n",
       "\n",
       "    .dataframe thead th {\n",
       "        text-align: right;\n",
       "    }\n",
       "</style>\n",
       "<table border=\"1\" class=\"dataframe\">\n",
       "  <thead>\n",
       "    <tr style=\"text-align: right;\">\n",
       "      <th></th>\n",
       "      <th>Age</th>\n",
       "      <th>Sex</th>\n",
       "      <th>BP</th>\n",
       "      <th>Cholesterol</th>\n",
       "      <th>Na_to_K</th>\n",
       "      <th>Drug</th>\n",
       "    </tr>\n",
       "  </thead>\n",
       "  <tbody>\n",
       "    <tr>\n",
       "      <th>0</th>\n",
       "      <td>23</td>\n",
       "      <td>F</td>\n",
       "      <td>HIGH</td>\n",
       "      <td>HIGH</td>\n",
       "      <td>25.355</td>\n",
       "      <td>drugY</td>\n",
       "    </tr>\n",
       "    <tr>\n",
       "      <th>1</th>\n",
       "      <td>47</td>\n",
       "      <td>M</td>\n",
       "      <td>LOW</td>\n",
       "      <td>HIGH</td>\n",
       "      <td>13.093</td>\n",
       "      <td>drugC</td>\n",
       "    </tr>\n",
       "    <tr>\n",
       "      <th>2</th>\n",
       "      <td>47</td>\n",
       "      <td>M</td>\n",
       "      <td>LOW</td>\n",
       "      <td>HIGH</td>\n",
       "      <td>10.114</td>\n",
       "      <td>drugC</td>\n",
       "    </tr>\n",
       "    <tr>\n",
       "      <th>3</th>\n",
       "      <td>28</td>\n",
       "      <td>F</td>\n",
       "      <td>NORMAL</td>\n",
       "      <td>HIGH</td>\n",
       "      <td>7.798</td>\n",
       "      <td>drugX</td>\n",
       "    </tr>\n",
       "    <tr>\n",
       "      <th>4</th>\n",
       "      <td>61</td>\n",
       "      <td>F</td>\n",
       "      <td>LOW</td>\n",
       "      <td>HIGH</td>\n",
       "      <td>18.043</td>\n",
       "      <td>drugY</td>\n",
       "    </tr>\n",
       "  </tbody>\n",
       "</table>\n",
       "</div>"
      ],
      "text/plain": [
       "   Age Sex      BP Cholesterol  Na_to_K   Drug\n",
       "0   23   F    HIGH        HIGH   25.355  drugY\n",
       "1   47   M     LOW        HIGH   13.093  drugC\n",
       "2   47   M     LOW        HIGH   10.114  drugC\n",
       "3   28   F  NORMAL        HIGH    7.798  drugX\n",
       "4   61   F     LOW        HIGH   18.043  drugY"
      ]
     },
     "execution_count": 3,
     "metadata": {},
     "output_type": "execute_result"
    }
   ],
   "source": [
    "my_data = pd.read_csv(\"drug200.csv\", delimiter=\",\")\n",
    "my_data[0:5]"
   ]
  },
  {
   "cell_type": "markdown",
   "metadata": {},
   "source": [
    "## Prepocessing Data Set"
   ]
  },
  {
   "cell_type": "markdown",
   "metadata": {},
   "source": [
    "Column datatypes"
   ]
  },
  {
   "cell_type": "code",
   "execution_count": 4,
   "metadata": {},
   "outputs": [
    {
     "name": "stdout",
     "output_type": "stream",
     "text": [
      "Age              int64\n",
      "Sex             object\n",
      "BP              object\n",
      "Cholesterol     object\n",
      "Na_to_K        float64\n",
      "Drug            object\n",
      "dtype: object\n",
      "(200, 6)\n"
     ]
    }
   ],
   "source": [
    "print (my_data.dtypes)\n",
    "print (my_data.shape)"
   ]
  },
  {
   "cell_type": "markdown",
   "metadata": {},
   "source": [
    "We want the model to predict the value of Class (that is, benign (=2) or malignant (=4)). As this field can have one of only two possible values, we need to change its measurement level to reflect this."
   ]
  },
  {
   "cell_type": "code",
   "execution_count": 5,
   "metadata": {},
   "outputs": [
    {
     "data": {
      "text/plain": [
       "array([[23, 'F', 'HIGH', 'HIGH', 25.355],\n",
       "       [47, 'M', 'LOW', 'HIGH', 13.093],\n",
       "       [47, 'M', 'LOW', 'HIGH', 10.113999999999999],\n",
       "       [28, 'F', 'NORMAL', 'HIGH', 7.797999999999999],\n",
       "       [61, 'F', 'LOW', 'HIGH', 18.043]], dtype=object)"
      ]
     },
     "execution_count": 5,
     "metadata": {},
     "output_type": "execute_result"
    }
   ],
   "source": [
    "X = my_data[['Age', 'Sex', 'BP', 'Cholesterol', 'Na_to_K']].values\n",
    "X[0:5]"
   ]
  },
  {
   "cell_type": "code",
   "execution_count": 8,
   "metadata": {},
   "outputs": [
    {
     "data": {
      "text/plain": [
       "array([[23, 0, 0, 0, 25.355],\n",
       "       [47, 1, 1, 0, 13.093],\n",
       "       [47, 1, 1, 0, 10.113999999999999],\n",
       "       [28, 0, 2, 0, 7.797999999999999],\n",
       "       [61, 0, 1, 0, 18.043]], dtype=object)"
      ]
     },
     "execution_count": 8,
     "metadata": {},
     "output_type": "execute_result"
    }
   ],
   "source": [
    "le_sex = preprocessing.LabelEncoder()\n",
    "le_sex.fit(['F','M'])\n",
    "X[:,1] = le_sex.transform(X[:,1]) \n",
    "\n",
    "\n",
    "le_BP = preprocessing.LabelEncoder()\n",
    "le_BP.fit([ 'LOW', 'NORMAL', 'HIGH'])\n",
    "X[:,2] = le_BP.transform(X[:,2])\n",
    "\n",
    "\n",
    "le_Chol = preprocessing.LabelEncoder()\n",
    "le_Chol.fit([ 'NORMAL', 'HIGH'])\n",
    "X[:,3] = le_Chol.transform(X[:,3]) \n",
    "\n",
    "X[0:5]"
   ]
  },
  {
   "cell_type": "code",
   "execution_count": 9,
   "metadata": {},
   "outputs": [
    {
     "data": {
      "text/plain": [
       "(200, 5)"
      ]
     },
     "execution_count": 9,
     "metadata": {},
     "output_type": "execute_result"
    }
   ],
   "source": [
    "X.shape"
   ]
  },
  {
   "cell_type": "markdown",
   "metadata": {},
   "source": [
    "Preprocess Y variable"
   ]
  },
  {
   "cell_type": "code",
   "execution_count": 10,
   "metadata": {},
   "outputs": [
    {
     "data": {
      "text/plain": [
       "0    drugY\n",
       "1    drugC\n",
       "2    drugC\n",
       "3    drugX\n",
       "4    drugY\n",
       "Name: Drug, dtype: object"
      ]
     },
     "execution_count": 10,
     "metadata": {},
     "output_type": "execute_result"
    }
   ],
   "source": [
    "y = my_data[\"Drug\"]\n",
    "y[0:5]"
   ]
  },
  {
   "cell_type": "code",
   "execution_count": 11,
   "metadata": {},
   "outputs": [
    {
     "data": {
      "text/plain": [
       "array([4, 2, 2, 3, 4, 3, 4, 2, 4, 4, 2, 4, 4, 4, 3, 4, 3, 0, 2, 4])"
      ]
     },
     "execution_count": 11,
     "metadata": {},
     "output_type": "execute_result"
    }
   ],
   "source": [
    "le_Drug = preprocessing.LabelEncoder()\n",
    "le_Drug.fit(['drugA', 'drugB', 'drugC','drugX', 'drugY'])\n",
    "y = le_Drug.transform(my_data['Drug'])\n",
    "y[:20]"
   ]
  },
  {
   "cell_type": "code",
   "execution_count": 12,
   "metadata": {},
   "outputs": [
    {
     "data": {
      "text/html": [
       "<div>\n",
       "<style scoped>\n",
       "    .dataframe tbody tr th:only-of-type {\n",
       "        vertical-align: middle;\n",
       "    }\n",
       "\n",
       "    .dataframe tbody tr th {\n",
       "        vertical-align: top;\n",
       "    }\n",
       "\n",
       "    .dataframe thead th {\n",
       "        text-align: right;\n",
       "    }\n",
       "</style>\n",
       "<table border=\"1\" class=\"dataframe\">\n",
       "  <thead>\n",
       "    <tr style=\"text-align: right;\">\n",
       "      <th></th>\n",
       "      <th>Age</th>\n",
       "      <th>Sex</th>\n",
       "      <th>BP</th>\n",
       "      <th>Cholesterol</th>\n",
       "      <th>Na_to_K</th>\n",
       "      <th>Drug</th>\n",
       "    </tr>\n",
       "  </thead>\n",
       "  <tbody>\n",
       "    <tr>\n",
       "      <th>0</th>\n",
       "      <td>23</td>\n",
       "      <td>F</td>\n",
       "      <td>HIGH</td>\n",
       "      <td>HIGH</td>\n",
       "      <td>25.355</td>\n",
       "      <td>4</td>\n",
       "    </tr>\n",
       "    <tr>\n",
       "      <th>1</th>\n",
       "      <td>47</td>\n",
       "      <td>M</td>\n",
       "      <td>LOW</td>\n",
       "      <td>HIGH</td>\n",
       "      <td>13.093</td>\n",
       "      <td>2</td>\n",
       "    </tr>\n",
       "    <tr>\n",
       "      <th>2</th>\n",
       "      <td>47</td>\n",
       "      <td>M</td>\n",
       "      <td>LOW</td>\n",
       "      <td>HIGH</td>\n",
       "      <td>10.114</td>\n",
       "      <td>2</td>\n",
       "    </tr>\n",
       "    <tr>\n",
       "      <th>3</th>\n",
       "      <td>28</td>\n",
       "      <td>F</td>\n",
       "      <td>NORMAL</td>\n",
       "      <td>HIGH</td>\n",
       "      <td>7.798</td>\n",
       "      <td>3</td>\n",
       "    </tr>\n",
       "    <tr>\n",
       "      <th>4</th>\n",
       "      <td>61</td>\n",
       "      <td>F</td>\n",
       "      <td>LOW</td>\n",
       "      <td>HIGH</td>\n",
       "      <td>18.043</td>\n",
       "      <td>4</td>\n",
       "    </tr>\n",
       "  </tbody>\n",
       "</table>\n",
       "</div>"
      ],
      "text/plain": [
       "   Age Sex      BP Cholesterol  Na_to_K  Drug\n",
       "0   23   F    HIGH        HIGH   25.355     4\n",
       "1   47   M     LOW        HIGH   13.093     2\n",
       "2   47   M     LOW        HIGH   10.114     2\n",
       "3   28   F  NORMAL        HIGH    7.798     3\n",
       "4   61   F     LOW        HIGH   18.043     4"
      ]
     },
     "execution_count": 12,
     "metadata": {},
     "output_type": "execute_result"
    }
   ],
   "source": [
    "my_data['Drug'] = y\n",
    "my_data.head(5)"
   ]
  },
  {
   "cell_type": "code",
   "execution_count": 13,
   "metadata": {},
   "outputs": [
    {
     "data": {
      "text/html": [
       "<div>\n",
       "<style scoped>\n",
       "    .dataframe tbody tr th:only-of-type {\n",
       "        vertical-align: middle;\n",
       "    }\n",
       "\n",
       "    .dataframe tbody tr th {\n",
       "        vertical-align: top;\n",
       "    }\n",
       "\n",
       "    .dataframe thead th {\n",
       "        text-align: right;\n",
       "    }\n",
       "</style>\n",
       "<table border=\"1\" class=\"dataframe\">\n",
       "  <thead>\n",
       "    <tr style=\"text-align: right;\">\n",
       "      <th></th>\n",
       "      <th>Age</th>\n",
       "      <th>Sex</th>\n",
       "      <th>BP</th>\n",
       "      <th>Cholesterol</th>\n",
       "      <th>Na_to_K</th>\n",
       "    </tr>\n",
       "  </thead>\n",
       "  <tbody>\n",
       "    <tr>\n",
       "      <th>0</th>\n",
       "      <td>23</td>\n",
       "      <td>0</td>\n",
       "      <td>0</td>\n",
       "      <td>0</td>\n",
       "      <td>25.355</td>\n",
       "    </tr>\n",
       "    <tr>\n",
       "      <th>1</th>\n",
       "      <td>47</td>\n",
       "      <td>1</td>\n",
       "      <td>1</td>\n",
       "      <td>0</td>\n",
       "      <td>13.093</td>\n",
       "    </tr>\n",
       "    <tr>\n",
       "      <th>2</th>\n",
       "      <td>47</td>\n",
       "      <td>1</td>\n",
       "      <td>1</td>\n",
       "      <td>0</td>\n",
       "      <td>10.114</td>\n",
       "    </tr>\n",
       "    <tr>\n",
       "      <th>3</th>\n",
       "      <td>28</td>\n",
       "      <td>0</td>\n",
       "      <td>2</td>\n",
       "      <td>0</td>\n",
       "      <td>7.798</td>\n",
       "    </tr>\n",
       "    <tr>\n",
       "      <th>4</th>\n",
       "      <td>61</td>\n",
       "      <td>0</td>\n",
       "      <td>1</td>\n",
       "      <td>0</td>\n",
       "      <td>18.043</td>\n",
       "    </tr>\n",
       "  </tbody>\n",
       "</table>\n",
       "</div>"
      ],
      "text/plain": [
       "  Age Sex BP Cholesterol Na_to_K\n",
       "0  23   0  0           0  25.355\n",
       "1  47   1  1           0  13.093\n",
       "2  47   1  1           0  10.114\n",
       "3  28   0  2           0   7.798\n",
       "4  61   0  1           0  18.043"
      ]
     },
     "execution_count": 13,
     "metadata": {},
     "output_type": "execute_result"
    }
   ],
   "source": [
    "data = pd.DataFrame(X, columns = ['Age', 'Sex', 'BP', 'Cholesterol', 'Na_to_K'], index = None)\n",
    "data.head(5)"
   ]
  },
  {
   "cell_type": "code",
   "execution_count": 26,
   "metadata": {},
   "outputs": [
    {
     "data": {
      "text/html": [
       "<div>\n",
       "<style scoped>\n",
       "    .dataframe tbody tr th:only-of-type {\n",
       "        vertical-align: middle;\n",
       "    }\n",
       "\n",
       "    .dataframe tbody tr th {\n",
       "        vertical-align: top;\n",
       "    }\n",
       "\n",
       "    .dataframe thead th {\n",
       "        text-align: right;\n",
       "    }\n",
       "</style>\n",
       "<table border=\"1\" class=\"dataframe\">\n",
       "  <thead>\n",
       "    <tr style=\"text-align: right;\">\n",
       "      <th></th>\n",
       "      <th>Age</th>\n",
       "      <th>Sex</th>\n",
       "      <th>BP</th>\n",
       "      <th>Cholesterol</th>\n",
       "      <th>Na_to_K</th>\n",
       "      <th>Clus_km</th>\n",
       "      <th>Class</th>\n",
       "    </tr>\n",
       "  </thead>\n",
       "  <tbody>\n",
       "    <tr>\n",
       "      <th>0</th>\n",
       "      <td>23</td>\n",
       "      <td>0</td>\n",
       "      <td>0</td>\n",
       "      <td>0</td>\n",
       "      <td>25.355</td>\n",
       "      <td>0</td>\n",
       "      <td>4</td>\n",
       "    </tr>\n",
       "    <tr>\n",
       "      <th>1</th>\n",
       "      <td>47</td>\n",
       "      <td>1</td>\n",
       "      <td>1</td>\n",
       "      <td>0</td>\n",
       "      <td>13.093</td>\n",
       "      <td>1</td>\n",
       "      <td>2</td>\n",
       "    </tr>\n",
       "    <tr>\n",
       "      <th>2</th>\n",
       "      <td>47</td>\n",
       "      <td>1</td>\n",
       "      <td>1</td>\n",
       "      <td>0</td>\n",
       "      <td>10.114</td>\n",
       "      <td>1</td>\n",
       "      <td>2</td>\n",
       "    </tr>\n",
       "    <tr>\n",
       "      <th>3</th>\n",
       "      <td>28</td>\n",
       "      <td>0</td>\n",
       "      <td>2</td>\n",
       "      <td>0</td>\n",
       "      <td>7.798</td>\n",
       "      <td>0</td>\n",
       "      <td>3</td>\n",
       "    </tr>\n",
       "    <tr>\n",
       "      <th>4</th>\n",
       "      <td>61</td>\n",
       "      <td>0</td>\n",
       "      <td>1</td>\n",
       "      <td>0</td>\n",
       "      <td>18.043</td>\n",
       "      <td>0</td>\n",
       "      <td>4</td>\n",
       "    </tr>\n",
       "  </tbody>\n",
       "</table>\n",
       "</div>"
      ],
      "text/plain": [
       "   Age  Sex  BP  Cholesterol  Na_to_K  Clus_km  Class\n",
       "0   23    0   0            0   25.355        0      4\n",
       "1   47    1   1            0   13.093        1      2\n",
       "2   47    1   1            0   10.114        1      2\n",
       "3   28    0   2            0    7.798        0      3\n",
       "4   61    0   1            0   18.043        0      4"
      ]
     },
     "execution_count": 26,
     "metadata": {},
     "output_type": "execute_result"
    }
   ],
   "source": [
    "data['Class'] = y\n",
    "data.head(5)"
   ]
  },
  {
   "cell_type": "code",
   "execution_count": 23,
   "metadata": {},
   "outputs": [
    {
     "name": "stdout",
     "output_type": "stream",
     "text": [
      "Age            object\n",
      "Sex            object\n",
      "BP             object\n",
      "Cholesterol    object\n",
      "Na_to_K        object\n",
      "Clus_km         int32\n",
      "dtype: object\n",
      "(200, 6)\n"
     ]
    }
   ],
   "source": [
    "print (data.dtypes)\n",
    "print (data.shape)"
   ]
  },
  {
   "cell_type": "code",
   "execution_count": 24,
   "metadata": {},
   "outputs": [
    {
     "name": "stdout",
     "output_type": "stream",
     "text": [
      "Age              int64\n",
      "Sex              int64\n",
      "BP               int64\n",
      "Cholesterol      int64\n",
      "Na_to_K        float64\n",
      "Clus_km          int32\n",
      "dtype: object\n",
      "(200, 6)\n"
     ]
    }
   ],
   "source": [
    "#cancer = cancer[pd.to_numeric(cancer['BareNuc'],errors ='coerrce').notnull()]\n",
    "data['Age'] = data['Age'].astype('int')\n",
    "data['Sex'] = data['Sex'].astype('int')\n",
    "data['BP'] = data['BP'].astype('int')\n",
    "data['Cholesterol'] = data['Cholesterol'].astype('int')\n",
    "data['Na_to_K'] = data['Na_to_K'].astype('float')\n",
    "\n",
    "print (data.dtypes)\n",
    "print (data.shape)"
   ]
  },
  {
   "cell_type": "markdown",
   "metadata": {},
   "source": [
    "#### Normalizing over the standard deviation\n",
    "Normalize the dataset using __StandardScaler()__ "
   ]
  },
  {
   "cell_type": "code",
   "execution_count": 15,
   "metadata": {},
   "outputs": [
    {
     "data": {
      "text/plain": [
       "array([[-1.29159102, -1.040833  , -1.11016894, -0.97043679,  1.28652212],\n",
       "       [ 0.16269866,  0.96076892,  0.10979693, -0.97043679, -0.4151454 ],\n",
       "       [ 0.16269866,  0.96076892,  0.10979693, -0.97043679, -0.82855818],\n",
       "       [-0.988614  , -1.040833  ,  1.32976279, -0.97043679, -1.14996267],\n",
       "       [ 1.0110343 , -1.040833  ,  0.10979693, -0.97043679,  0.27179427]])"
      ]
     },
     "execution_count": 15,
     "metadata": {},
     "output_type": "execute_result"
    }
   ],
   "source": [
    "feature_df = data[['Age', 'Sex', 'BP', 'Cholesterol', 'Na_to_K']]\n",
    "X = np.asarray(feature_df)\n",
    "M = StandardScaler().fit_transform(X)\n",
    "M[0:5]"
   ]
  },
  {
   "cell_type": "markdown",
   "metadata": {},
   "source": [
    "## kMeans Modeling"
   ]
  },
  {
   "cell_type": "code",
   "execution_count": 16,
   "metadata": {},
   "outputs": [
    {
     "data": {
      "image/png": "[encoded data removed]",
      "text/plain": [
       "<Figure size 432x288 with 1 Axes>"
      ]
     },
     "metadata": {
      "needs_background": "light"
     },
     "output_type": "display_data"
    }
   ],
   "source": [
    "# k means determine k\n",
    "distortions = []\n",
    "K = range(1,6)\n",
    "for k in K:\n",
    "    kmeanModel = KMeans(n_clusters=k).fit(M)\n",
    "    kmeanModel.fit(M)\n",
    "    distortions.append(sum(np.min(cdist(M, kmeanModel.cluster_centers_, 'euclidean'), axis=1)) / M.shape[0])\n",
    "\n",
    "# Plot the elbow\n",
    "plt.plot(K, distortions, 'bx-')\n",
    "plt.xlabel('k')\n",
    "plt.ylabel('Distortion')\n",
    "plt.title('The Elbow Method showing the optimal k')\n",
    "plt.show()"
   ]
  },
  {
   "cell_type": "code",
   "execution_count": 52,
   "metadata": {},
   "outputs": [
    {
     "name": "stdout",
     "output_type": "stream",
     "text": [
      "[0 0 0 0 0]\n"
     ]
    }
   ],
   "source": [
    "clusterNum = 2\n",
    "k_means = KMeans(init = \"random\", n_clusters = clusterNum, n_init = 10)\n",
    "k_means.fit(M)\n",
    "labels = k_means.labels_\n",
    "print(labels[0:5])"
   ]
  },
  {
   "cell_type": "code",
   "execution_count": 53,
   "metadata": {},
   "outputs": [
    {
     "name": "stdout",
     "output_type": "stream",
     "text": [
      "[0 0 0 0 0 0 0 0 0 1 0 1 0 0 0 1 1 0 0 1 1 0 1 0 0]\n"
     ]
    }
   ],
   "source": [
    "print (labels[0:25])"
   ]
  },
  {
   "cell_type": "code",
   "execution_count": 54,
   "metadata": {},
   "outputs": [
    {
     "name": "stdout",
     "output_type": "stream",
     "text": [
      "[[ 0.06621666  0.00855053  0.13348559 -0.97043679 -0.00970481]\n",
      " [-0.07031253 -0.00907943 -0.14174243  1.03046381  0.0103051 ]]\n",
      "795.2491851055647\n",
      "4\n"
     ]
    }
   ],
   "source": [
    "cluster_centers = k_means.cluster_centers_\n",
    "inertia = k_means.inertia_\n",
    "n_iter = k_means.n_iter_\n",
    "\n",
    "print (cluster_centers)\n",
    "print (inertia)\n",
    "print (n_iter)"
   ]
  },
  {
   "cell_type": "markdown",
   "metadata": {},
   "source": [
    "## Insights\n",
    "Assign labels to each row in dataframe"
   ]
  },
  {
   "cell_type": "code",
   "execution_count": 55,
   "metadata": {},
   "outputs": [
    {
     "data": {
      "text/html": [
       "<div>\n",
       "<style scoped>\n",
       "    .dataframe tbody tr th:only-of-type {\n",
       "        vertical-align: middle;\n",
       "    }\n",
       "\n",
       "    .dataframe tbody tr th {\n",
       "        vertical-align: top;\n",
       "    }\n",
       "\n",
       "    .dataframe thead th {\n",
       "        text-align: right;\n",
       "    }\n",
       "</style>\n",
       "<table border=\"1\" class=\"dataframe\">\n",
       "  <thead>\n",
       "    <tr style=\"text-align: right;\">\n",
       "      <th></th>\n",
       "      <th>Age</th>\n",
       "      <th>Sex</th>\n",
       "      <th>BP</th>\n",
       "      <th>Cholesterol</th>\n",
       "      <th>Na_to_K</th>\n",
       "      <th>Clus_km</th>\n",
       "      <th>Class</th>\n",
       "    </tr>\n",
       "  </thead>\n",
       "  <tbody>\n",
       "    <tr>\n",
       "      <th>0</th>\n",
       "      <td>23</td>\n",
       "      <td>0</td>\n",
       "      <td>0</td>\n",
       "      <td>0</td>\n",
       "      <td>25.355</td>\n",
       "      <td>0</td>\n",
       "      <td>4</td>\n",
       "    </tr>\n",
       "    <tr>\n",
       "      <th>1</th>\n",
       "      <td>47</td>\n",
       "      <td>1</td>\n",
       "      <td>1</td>\n",
       "      <td>0</td>\n",
       "      <td>13.093</td>\n",
       "      <td>0</td>\n",
       "      <td>2</td>\n",
       "    </tr>\n",
       "    <tr>\n",
       "      <th>2</th>\n",
       "      <td>47</td>\n",
       "      <td>1</td>\n",
       "      <td>1</td>\n",
       "      <td>0</td>\n",
       "      <td>10.114</td>\n",
       "      <td>0</td>\n",
       "      <td>2</td>\n",
       "    </tr>\n",
       "    <tr>\n",
       "      <th>3</th>\n",
       "      <td>28</td>\n",
       "      <td>0</td>\n",
       "      <td>2</td>\n",
       "      <td>0</td>\n",
       "      <td>7.798</td>\n",
       "      <td>0</td>\n",
       "      <td>3</td>\n",
       "    </tr>\n",
       "    <tr>\n",
       "      <th>4</th>\n",
       "      <td>61</td>\n",
       "      <td>0</td>\n",
       "      <td>1</td>\n",
       "      <td>0</td>\n",
       "      <td>18.043</td>\n",
       "      <td>0</td>\n",
       "      <td>4</td>\n",
       "    </tr>\n",
       "    <tr>\n",
       "      <th>5</th>\n",
       "      <td>22</td>\n",
       "      <td>0</td>\n",
       "      <td>2</td>\n",
       "      <td>0</td>\n",
       "      <td>8.607</td>\n",
       "      <td>0</td>\n",
       "      <td>3</td>\n",
       "    </tr>\n",
       "    <tr>\n",
       "      <th>6</th>\n",
       "      <td>49</td>\n",
       "      <td>0</td>\n",
       "      <td>2</td>\n",
       "      <td>0</td>\n",
       "      <td>16.275</td>\n",
       "      <td>0</td>\n",
       "      <td>4</td>\n",
       "    </tr>\n",
       "    <tr>\n",
       "      <th>7</th>\n",
       "      <td>41</td>\n",
       "      <td>1</td>\n",
       "      <td>1</td>\n",
       "      <td>0</td>\n",
       "      <td>11.037</td>\n",
       "      <td>0</td>\n",
       "      <td>2</td>\n",
       "    </tr>\n",
       "    <tr>\n",
       "      <th>8</th>\n",
       "      <td>60</td>\n",
       "      <td>1</td>\n",
       "      <td>2</td>\n",
       "      <td>0</td>\n",
       "      <td>15.171</td>\n",
       "      <td>0</td>\n",
       "      <td>4</td>\n",
       "    </tr>\n",
       "    <tr>\n",
       "      <th>9</th>\n",
       "      <td>43</td>\n",
       "      <td>1</td>\n",
       "      <td>1</td>\n",
       "      <td>1</td>\n",
       "      <td>19.368</td>\n",
       "      <td>1</td>\n",
       "      <td>4</td>\n",
       "    </tr>\n",
       "    <tr>\n",
       "      <th>10</th>\n",
       "      <td>47</td>\n",
       "      <td>0</td>\n",
       "      <td>1</td>\n",
       "      <td>0</td>\n",
       "      <td>11.767</td>\n",
       "      <td>0</td>\n",
       "      <td>2</td>\n",
       "    </tr>\n",
       "    <tr>\n",
       "      <th>11</th>\n",
       "      <td>34</td>\n",
       "      <td>0</td>\n",
       "      <td>0</td>\n",
       "      <td>1</td>\n",
       "      <td>19.199</td>\n",
       "      <td>1</td>\n",
       "      <td>4</td>\n",
       "    </tr>\n",
       "    <tr>\n",
       "      <th>12</th>\n",
       "      <td>43</td>\n",
       "      <td>1</td>\n",
       "      <td>1</td>\n",
       "      <td>0</td>\n",
       "      <td>15.376</td>\n",
       "      <td>0</td>\n",
       "      <td>4</td>\n",
       "    </tr>\n",
       "    <tr>\n",
       "      <th>13</th>\n",
       "      <td>74</td>\n",
       "      <td>0</td>\n",
       "      <td>1</td>\n",
       "      <td>0</td>\n",
       "      <td>20.942</td>\n",
       "      <td>0</td>\n",
       "      <td>4</td>\n",
       "    </tr>\n",
       "    <tr>\n",
       "      <th>14</th>\n",
       "      <td>50</td>\n",
       "      <td>0</td>\n",
       "      <td>2</td>\n",
       "      <td>0</td>\n",
       "      <td>12.703</td>\n",
       "      <td>0</td>\n",
       "      <td>3</td>\n",
       "    </tr>\n",
       "    <tr>\n",
       "      <th>15</th>\n",
       "      <td>16</td>\n",
       "      <td>0</td>\n",
       "      <td>0</td>\n",
       "      <td>1</td>\n",
       "      <td>15.516</td>\n",
       "      <td>1</td>\n",
       "      <td>4</td>\n",
       "    </tr>\n",
       "    <tr>\n",
       "      <th>16</th>\n",
       "      <td>69</td>\n",
       "      <td>1</td>\n",
       "      <td>1</td>\n",
       "      <td>1</td>\n",
       "      <td>11.455</td>\n",
       "      <td>1</td>\n",
       "      <td>3</td>\n",
       "    </tr>\n",
       "    <tr>\n",
       "      <th>17</th>\n",
       "      <td>43</td>\n",
       "      <td>1</td>\n",
       "      <td>0</td>\n",
       "      <td>0</td>\n",
       "      <td>13.972</td>\n",
       "      <td>0</td>\n",
       "      <td>0</td>\n",
       "    </tr>\n",
       "    <tr>\n",
       "      <th>18</th>\n",
       "      <td>23</td>\n",
       "      <td>1</td>\n",
       "      <td>1</td>\n",
       "      <td>0</td>\n",
       "      <td>7.298</td>\n",
       "      <td>0</td>\n",
       "      <td>2</td>\n",
       "    </tr>\n",
       "    <tr>\n",
       "      <th>19</th>\n",
       "      <td>32</td>\n",
       "      <td>0</td>\n",
       "      <td>0</td>\n",
       "      <td>1</td>\n",
       "      <td>25.974</td>\n",
       "      <td>1</td>\n",
       "      <td>4</td>\n",
       "    </tr>\n",
       "  </tbody>\n",
       "</table>\n",
       "</div>"
      ],
      "text/plain": [
       "    Age  Sex  BP  Cholesterol  Na_to_K  Clus_km  Class\n",
       "0    23    0   0            0   25.355        0      4\n",
       "1    47    1   1            0   13.093        0      2\n",
       "2    47    1   1            0   10.114        0      2\n",
       "3    28    0   2            0    7.798        0      3\n",
       "4    61    0   1            0   18.043        0      4\n",
       "5    22    0   2            0    8.607        0      3\n",
       "6    49    0   2            0   16.275        0      4\n",
       "7    41    1   1            0   11.037        0      2\n",
       "8    60    1   2            0   15.171        0      4\n",
       "9    43    1   1            1   19.368        1      4\n",
       "10   47    0   1            0   11.767        0      2\n",
       "11   34    0   0            1   19.199        1      4\n",
       "12   43    1   1            0   15.376        0      4\n",
       "13   74    0   1            0   20.942        0      4\n",
       "14   50    0   2            0   12.703        0      3\n",
       "15   16    0   0            1   15.516        1      4\n",
       "16   69    1   1            1   11.455        1      3\n",
       "17   43    1   0            0   13.972        0      0\n",
       "18   23    1   1            0    7.298        0      2\n",
       "19   32    0   0            1   25.974        1      4"
      ]
     },
     "execution_count": 55,
     "metadata": {},
     "output_type": "execute_result"
    }
   ],
   "source": [
    "data[\"Clus_km\"] = labels\n",
    "data.head(20)"
   ]
  },
  {
   "cell_type": "markdown",
   "metadata": {},
   "source": [
    "We can easily check the centroid values by averaging the features in each cluster."
   ]
  },
  {
   "cell_type": "code",
   "execution_count": 50,
   "metadata": {},
   "outputs": [
    {
     "data": {
      "text/html": [
       "<div>\n",
       "<style scoped>\n",
       "    .dataframe tbody tr th:only-of-type {\n",
       "        vertical-align: middle;\n",
       "    }\n",
       "\n",
       "    .dataframe tbody tr th {\n",
       "        vertical-align: top;\n",
       "    }\n",
       "\n",
       "    .dataframe thead th {\n",
       "        text-align: right;\n",
       "    }\n",
       "</style>\n",
       "<table border=\"1\" class=\"dataframe\">\n",
       "  <thead>\n",
       "    <tr style=\"text-align: right;\">\n",
       "      <th></th>\n",
       "      <th>Age</th>\n",
       "      <th>Sex</th>\n",
       "      <th>BP</th>\n",
       "      <th>Cholesterol</th>\n",
       "      <th>Na_to_K</th>\n",
       "      <th>Class</th>\n",
       "    </tr>\n",
       "    <tr>\n",
       "      <th>Clus_km</th>\n",
       "      <th></th>\n",
       "      <th></th>\n",
       "      <th></th>\n",
       "      <th></th>\n",
       "      <th></th>\n",
       "      <th></th>\n",
       "    </tr>\n",
       "  </thead>\n",
       "  <tbody>\n",
       "    <tr>\n",
       "      <th>0</th>\n",
       "      <td>45.932692</td>\n",
       "      <td>1.0</td>\n",
       "      <td>0.903846</td>\n",
       "      <td>0.480769</td>\n",
       "      <td>15.219029</td>\n",
       "      <td>2.740385</td>\n",
       "    </tr>\n",
       "    <tr>\n",
       "      <th>1</th>\n",
       "      <td>42.562500</td>\n",
       "      <td>0.0</td>\n",
       "      <td>0.916667</td>\n",
       "      <td>0.489583</td>\n",
       "      <td>17.022062</td>\n",
       "      <td>3.010417</td>\n",
       "    </tr>\n",
       "  </tbody>\n",
       "</table>\n",
       "</div>"
      ],
      "text/plain": [
       "               Age  Sex        BP  Cholesterol    Na_to_K     Class\n",
       "Clus_km                                                            \n",
       "0        45.932692  1.0  0.903846     0.480769  15.219029  2.740385\n",
       "1        42.562500  0.0  0.916667     0.489583  17.022062  3.010417"
      ]
     },
     "execution_count": 50,
     "metadata": {},
     "output_type": "execute_result"
    }
   ],
   "source": [
    "#cancer.drop(columns = ['Class'], inplace = True)\n",
    "data.groupby('Clus_km').mean()"
   ]
  },
  {
   "cell_type": "code",
   "execution_count": 45,
   "metadata": {},
   "outputs": [
    {
     "data": {
      "text/plain": [
       "Text(0.5, 1.0, 'K-Means Cluster Centers')"
      ]
     },
     "execution_count": 45,
     "metadata": {},
     "output_type": "execute_result"
    },
    {
     "data": {
      "image/png": "[encoded data removed]",
      "text/plain": [
       "<Figure size 432x288 with 1 Axes>"
      ]
     },
     "metadata": {
      "needs_background": "light"
     },
     "output_type": "display_data"
    }
   ],
   "source": [
    "y_kmeans = k_means.predict(M)\n",
    "plt.scatter(M[:, 0], M[:, 1], c=y_kmeans, s=50, cmap = 'viridis')\n",
    "\n",
    "centers = k_means.cluster_centers_\n",
    "plt.scatter(centers[:, 0], centers[:, 1], c='black', s=200, alpha=0.5);\n",
    "plt.title('K-Means Cluster Centers')"
   ]
  },
  {
   "cell_type": "markdown",
   "metadata": {},
   "source": [
    "Look at distribution based on Clump and BareNuc"
   ]
  },
  {
   "cell_type": "code",
   "execution_count": 35,
   "metadata": {},
   "outputs": [
    {
     "data": {
      "image/png": "[encoded data removed]",
      "text/plain": [
       "<Figure size 432x288 with 1 Axes>"
      ]
     },
     "metadata": {
      "needs_background": "light"
     },
     "output_type": "display_data"
    }
   ],
   "source": [
    "#area = np.pi * ( X[:, 1])**2  \n",
    "plt.scatter(X[:, 0], X[:, 4], c=labels.astype(np.float), alpha=0.5, cmap = 'viridis')\n",
    "plt.xlabel('Age', fontsize=18)\n",
    "plt.ylabel('Na_to_K', fontsize=16)\n",
    "plt.title('K-Means: Age and Na_to_K Distribution', fontsize=18)\n",
    "plt.show()"
   ]
  },
  {
   "cell_type": "code",
   "execution_count": null,
   "metadata": {},
   "outputs": [],
   "source": [
    "area = np.pi * ( M[:, 1])**2  \n",
    "plt.scatter(M[:, 1], M[:, 5], s=area, c=labels.astype(np.float), alpha=1.0)\n",
    "plt.xlabel('UnifSize', fontsize=18)\n",
    "plt.ylabel('BareNuc', fontsize=16)\n",
    "plt.title('K-Means: UnifSize and BareNuc Distribution')\n",
    "plt.show()"
   ]
  },
  {
   "cell_type": "code",
   "execution_count": 36,
   "metadata": {},
   "outputs": [
    {
     "data": {
      "text/plain": [
       "Text(0.0, 1.0, '3-D K-Means')"
      ]
     },
     "execution_count": 36,
     "metadata": {},
     "output_type": "execute_result"
    },
    {
     "data": {
      "image/png": "[encoded data removed]",
      "text/plain": [
       "<Figure size 576x432 with 1 Axes>"
      ]
     },
     "metadata": {
      "needs_background": "light"
     },
     "output_type": "display_data"
    }
   ],
   "source": [
    "from mpl_toolkits.mplot3d import Axes3D \n",
    "fig = plt.figure(1, figsize=(8, 6))\n",
    "plt.clf()\n",
    "ax = Axes3D(fig, rect=[0, 0, .95, 1], elev=48, azim=134)\n",
    "\n",
    "plt.cla()\n",
    "# plt.ylabel('Age', fontsize=18)\n",
    "# plt.xlabel('Income', fontsize=16)\n",
    "# plt.zlabel('Education', fontsize=16)\n",
    "ax.set_xlabel('Age')\n",
    "ax.set_ylabel('BP')\n",
    "ax.set_zlabel('Na_to_K')\n",
    "\n",
    "ax.scatter(X[:, 0], X[:, 2], X[:, 4], c= labels.astype(np.float), cmap = 'viridis')\n",
    "plt.title(\"3-D K-Means\", loc = \"left\")\n",
    "#plt.legend()"
   ]
  },
  {
   "cell_type": "markdown",
   "metadata": {},
   "source": [
    "k-means partitions data patients into mutually exclusive groups, for example, into 2 clusters. The patients in each cluster are similar to each other inifSize, BareNuc, and Clump thickness.\n",
    "Now we can create a profile for each group, considering the common characteristics of each cluster. \n",
    "For example, the 2 clusters can be:\n",
    "\n",
    "- Clump thickness < 6, InifSize < 4\n",
    "- BareNuc > 4 and Clump > 4\n"
   ]
  },
  {
   "cell_type": "markdown",
   "metadata": {},
   "source": [
    "## Expectation Maximization"
   ]
  },
  {
   "cell_type": "code",
   "execution_count": 79,
   "metadata": {},
   "outputs": [
    {
     "data": {
      "text/plain": [
       "GaussianMixture(covariance_type='full', init_params='kmeans', max_iter=100,\n",
       "        means_init=None, n_components=2, n_init=1, precisions_init=None,\n",
       "        random_state=None, reg_covar=1e-06, tol=0.001, verbose=0,\n",
       "        verbose_interval=10, warm_start=False, weights_init=None)"
      ]
     },
     "execution_count": 79,
     "metadata": {},
     "output_type": "execute_result"
    }
   ],
   "source": [
    "np.random.seed(1)\n",
    "gmm = GaussianMixture(n_components = 2)\n",
    "gmm.fit(M)"
   ]
  },
  {
   "cell_type": "code",
   "execution_count": 85,
   "metadata": {},
   "outputs": [],
   "source": [
    "label_gmm = gmm.predict(M)"
   ]
  },
  {
   "cell_type": "code",
   "execution_count": 86,
   "metadata": {},
   "outputs": [
    {
     "data": {
      "text/html": [
       "<div>\n",
       "<style scoped>\n",
       "    .dataframe tbody tr th:only-of-type {\n",
       "        vertical-align: middle;\n",
       "    }\n",
       "\n",
       "    .dataframe tbody tr th {\n",
       "        vertical-align: top;\n",
       "    }\n",
       "\n",
       "    .dataframe thead th {\n",
       "        text-align: right;\n",
       "    }\n",
       "</style>\n",
       "<table border=\"1\" class=\"dataframe\">\n",
       "  <thead>\n",
       "    <tr style=\"text-align: right;\">\n",
       "      <th></th>\n",
       "      <th>Age</th>\n",
       "      <th>Sex</th>\n",
       "      <th>BP</th>\n",
       "      <th>Cholesterol</th>\n",
       "      <th>Na_to_K</th>\n",
       "      <th>Clus_km</th>\n",
       "      <th>Class</th>\n",
       "      <th>Clus_gmm</th>\n",
       "    </tr>\n",
       "  </thead>\n",
       "  <tbody>\n",
       "    <tr>\n",
       "      <th>0</th>\n",
       "      <td>23</td>\n",
       "      <td>0</td>\n",
       "      <td>0</td>\n",
       "      <td>0</td>\n",
       "      <td>25.36</td>\n",
       "      <td>0</td>\n",
       "      <td>4</td>\n",
       "      <td>1</td>\n",
       "    </tr>\n",
       "    <tr>\n",
       "      <th>1</th>\n",
       "      <td>47</td>\n",
       "      <td>1</td>\n",
       "      <td>1</td>\n",
       "      <td>0</td>\n",
       "      <td>13.09</td>\n",
       "      <td>0</td>\n",
       "      <td>2</td>\n",
       "      <td>0</td>\n",
       "    </tr>\n",
       "    <tr>\n",
       "      <th>2</th>\n",
       "      <td>47</td>\n",
       "      <td>1</td>\n",
       "      <td>1</td>\n",
       "      <td>0</td>\n",
       "      <td>10.11</td>\n",
       "      <td>0</td>\n",
       "      <td>2</td>\n",
       "      <td>0</td>\n",
       "    </tr>\n",
       "    <tr>\n",
       "      <th>3</th>\n",
       "      <td>28</td>\n",
       "      <td>0</td>\n",
       "      <td>2</td>\n",
       "      <td>0</td>\n",
       "      <td>7.80</td>\n",
       "      <td>0</td>\n",
       "      <td>3</td>\n",
       "      <td>1</td>\n",
       "    </tr>\n",
       "    <tr>\n",
       "      <th>4</th>\n",
       "      <td>61</td>\n",
       "      <td>0</td>\n",
       "      <td>1</td>\n",
       "      <td>0</td>\n",
       "      <td>18.04</td>\n",
       "      <td>0</td>\n",
       "      <td>4</td>\n",
       "      <td>1</td>\n",
       "    </tr>\n",
       "    <tr>\n",
       "      <th>5</th>\n",
       "      <td>22</td>\n",
       "      <td>0</td>\n",
       "      <td>2</td>\n",
       "      <td>0</td>\n",
       "      <td>8.61</td>\n",
       "      <td>0</td>\n",
       "      <td>3</td>\n",
       "      <td>1</td>\n",
       "    </tr>\n",
       "    <tr>\n",
       "      <th>6</th>\n",
       "      <td>49</td>\n",
       "      <td>0</td>\n",
       "      <td>2</td>\n",
       "      <td>0</td>\n",
       "      <td>16.27</td>\n",
       "      <td>0</td>\n",
       "      <td>4</td>\n",
       "      <td>1</td>\n",
       "    </tr>\n",
       "    <tr>\n",
       "      <th>7</th>\n",
       "      <td>41</td>\n",
       "      <td>1</td>\n",
       "      <td>1</td>\n",
       "      <td>0</td>\n",
       "      <td>11.04</td>\n",
       "      <td>0</td>\n",
       "      <td>2</td>\n",
       "      <td>0</td>\n",
       "    </tr>\n",
       "    <tr>\n",
       "      <th>8</th>\n",
       "      <td>60</td>\n",
       "      <td>1</td>\n",
       "      <td>2</td>\n",
       "      <td>0</td>\n",
       "      <td>15.17</td>\n",
       "      <td>0</td>\n",
       "      <td>4</td>\n",
       "      <td>0</td>\n",
       "    </tr>\n",
       "    <tr>\n",
       "      <th>9</th>\n",
       "      <td>43</td>\n",
       "      <td>1</td>\n",
       "      <td>1</td>\n",
       "      <td>1</td>\n",
       "      <td>19.37</td>\n",
       "      <td>1</td>\n",
       "      <td>4</td>\n",
       "      <td>0</td>\n",
       "    </tr>\n",
       "  </tbody>\n",
       "</table>\n",
       "</div>"
      ],
      "text/plain": [
       "   Age  Sex  BP  Cholesterol  Na_to_K  Clus_km  Class  Clus_gmm\n",
       "0   23    0   0            0    25.36        0      4         1\n",
       "1   47    1   1            0    13.09        0      2         0\n",
       "2   47    1   1            0    10.11        0      2         0\n",
       "3   28    0   2            0     7.80        0      3         1\n",
       "4   61    0   1            0    18.04        0      4         1\n",
       "5   22    0   2            0     8.61        0      3         1\n",
       "6   49    0   2            0    16.27        0      4         1\n",
       "7   41    1   1            0    11.04        0      2         0\n",
       "8   60    1   2            0    15.17        0      4         0\n",
       "9   43    1   1            1    19.37        1      4         0"
      ]
     },
     "execution_count": 86,
     "metadata": {},
     "output_type": "execute_result"
    }
   ],
   "source": [
    "data['Clus_gmm'] = gmm.predict(M)\n",
    "data.head(10)"
   ]
  },
  {
   "cell_type": "code",
   "execution_count": 87,
   "metadata": {},
   "outputs": [
    {
     "data": {
      "text/html": [
       "<div>\n",
       "<style scoped>\n",
       "    .dataframe tbody tr th:only-of-type {\n",
       "        vertical-align: middle;\n",
       "    }\n",
       "\n",
       "    .dataframe tbody tr th {\n",
       "        vertical-align: top;\n",
       "    }\n",
       "\n",
       "    .dataframe thead th {\n",
       "        text-align: right;\n",
       "    }\n",
       "</style>\n",
       "<table border=\"1\" class=\"dataframe\">\n",
       "  <thead>\n",
       "    <tr style=\"text-align: right;\">\n",
       "      <th></th>\n",
       "      <th>Age</th>\n",
       "      <th>Sex</th>\n",
       "      <th>BP</th>\n",
       "      <th>Cholesterol</th>\n",
       "      <th>Na_to_K</th>\n",
       "      <th>Clus_km</th>\n",
       "      <th>Class</th>\n",
       "    </tr>\n",
       "    <tr>\n",
       "      <th>Clus_gmm</th>\n",
       "      <th></th>\n",
       "      <th></th>\n",
       "      <th></th>\n",
       "      <th></th>\n",
       "      <th></th>\n",
       "      <th></th>\n",
       "      <th></th>\n",
       "    </tr>\n",
       "  </thead>\n",
       "  <tbody>\n",
       "    <tr>\n",
       "      <th>0</th>\n",
       "      <td>45.93</td>\n",
       "      <td>1.00</td>\n",
       "      <td>0.90</td>\n",
       "      <td>0.48</td>\n",
       "      <td>15.22</td>\n",
       "      <td>0.48</td>\n",
       "      <td>2.74</td>\n",
       "    </tr>\n",
       "    <tr>\n",
       "      <th>1</th>\n",
       "      <td>42.56</td>\n",
       "      <td>0.00</td>\n",
       "      <td>0.92</td>\n",
       "      <td>0.49</td>\n",
       "      <td>17.02</td>\n",
       "      <td>0.49</td>\n",
       "      <td>3.01</td>\n",
       "    </tr>\n",
       "  </tbody>\n",
       "</table>\n",
       "</div>"
      ],
      "text/plain": [
       "           Age  Sex   BP  Cholesterol  Na_to_K  Clus_km  Class\n",
       "Clus_gmm                                                      \n",
       "0        45.93 1.00 0.90         0.48    15.22     0.48   2.74\n",
       "1        42.56 0.00 0.92         0.49    17.02     0.49   3.01"
      ]
     },
     "execution_count": 87,
     "metadata": {},
     "output_type": "execute_result"
    }
   ],
   "source": [
    "#cancer['Label'] = y\n",
    "#cancer.head(10)\n",
    "data.groupby('Clus_gmm').mean()"
   ]
  },
  {
   "cell_type": "markdown",
   "metadata": {},
   "source": [
    "### Visualize GMM cluster"
   ]
  },
  {
   "cell_type": "code",
   "execution_count": 88,
   "metadata": {},
   "outputs": [],
   "source": [
    "cmap = cm.get_cmap('viridis')\n",
    "pd.options.display.float_format = '{:,.2f}'.format"
   ]
  },
  {
   "cell_type": "code",
   "execution_count": 90,
   "metadata": {},
   "outputs": [
    {
     "data": {
      "image/png": "[encoded data removed]",
      "text/plain": [
       "<Figure size 432x288 with 1 Axes>"
      ]
     },
     "metadata": {
      "needs_background": "light"
     },
     "output_type": "display_data"
    }
   ],
   "source": [
    "#area = np.pi * ( M[:, 1])**2  \n",
    "plt.scatter(M[:, 0], M[:, 4], c=label_gmm.astype(np.float), alpha=1.0, cmap = 'viridis')\n",
    "plt.xlabel('Age', fontsize=12)\n",
    "plt.ylabel('Na_to_K', fontsize=12)\n",
    "plt.title('Expectation Maximization: Age and Na_to_K Distribution', fontsize = 14)\n",
    "plt.show()"
   ]
  },
  {
   "cell_type": "code",
   "execution_count": null,
   "metadata": {},
   "outputs": [],
   "source": [
    "area = np.pi * ( M[:, 1])**2  \n",
    "plt.scatter(M[:, 1], M[:, 5], s=area, c=label_gmm.astype(np.float), alpha=0.5)\n",
    "plt.xlabel('UnifSize', fontsize=18)\n",
    "plt.ylabel('BareNuc', fontsize=16)\n",
    "\n",
    "plt.show()"
   ]
  },
  {
   "cell_type": "code",
   "execution_count": null,
   "metadata": {},
   "outputs": [],
   "source": [
    "from mpl_toolkits.mplot3d import Axes3D \n",
    "fig = plt.figure(1, figsize=(8, 6))\n",
    "plt.clf()\n",
    "ax = Axes3D(fig, rect=[0, 0, .95, 1], elev=48, azim=134)\n",
    "\n",
    "plt.cla()\n",
    "# plt.ylabel('Age', fontsize=18)\n",
    "# plt.xlabel('Income', fontsize=16)\n",
    "# plt.zlabel('Education', fontsize=16)\n",
    "ax.set_xlabel('Clump')\n",
    "ax.set_ylabel('UnifSize')\n",
    "ax.set_zlabel('BareNuc')\n",
    "#CS = ax.contourf3D(X[:,0], X[:,1], X[:,5], cmap='RdBu_r', alpha=.5)\n",
    "#CB = plt.colorbar(CS, shrink=0.8)\n",
    "\n",
    "ax.scatter(M[:, 0], M[:, 1], M[:, 5], c= label_gmm.astype(np.float))\n",
    "plt.title(\"3-D Expectation Maximization\", loc = \"left\")"
   ]
  },
  {
   "cell_type": "code",
   "execution_count": 91,
   "metadata": {},
   "outputs": [
    {
     "data": {
      "text/plain": [
       "array([0.52, 0.48])"
      ]
     },
     "execution_count": 91,
     "metadata": {},
     "output_type": "execute_result"
    }
   ],
   "source": [
    "gmm.weights_"
   ]
  },
  {
   "cell_type": "code",
   "execution_count": 92,
   "metadata": {},
   "outputs": [],
   "source": [
    "xmin, ymin = features_2D.min(axis=0)\n",
    "xmax, ymax = features_2D.max(axis=0)\n",
    "\n",
    "x = np.linspace(xmin, xmax, 500)\n",
    "y = np.linspace(ymin, ymax, 500)\n",
    "X, Y = np.meshgrid(x, y)\n",
    "\n",
    "simulated_2D = np.column_stack([np.ravel(X), np.ravel(Y)])\n",
    "simulated_4D = pca.inverse_transform(simulated_2D)\n",
    "Z = atleast_2d(np.clip(np.exp(gmm.score_samples(simulated_4D)), a_min=0, a_max=1)).reshape(X.shape)\n",
    "\n",
    "simulated_2D = np.column_stack([np.ravel(X), np.ravel(Y)])\n",
    "simulated_4D = pca.inverse_transform(simulated_2D)\n",
    "Z = atleast_2d(np.clip(np.exp(gmm.score_samples(simulated_4D)), a_min=0, a_max=1)).reshape(X.shape)"
   ]
  },
  {
   "cell_type": "code",
   "execution_count": 93,
   "metadata": {},
   "outputs": [
    {
     "data": {
      "text/plain": [
       "Text(0.5, 1.0, 'GMM Cluster Probabilities with PCA')"
      ]
     },
     "execution_count": 93,
     "metadata": {},
     "output_type": "execute_result"
    },
    {
     "data": {
      "image/png": "[encoded data removed]",
      "text/plain": [
       "<Figure size 432x288 with 2 Axes>"
      ]
     },
     "metadata": {
      "needs_background": "light"
     },
     "output_type": "display_data"
    }
   ],
   "source": [
    "fig, ax = plt.subplots()\n",
    "ax.set_aspect('equal')\n",
    "CS = ax.contour(X, Y, Z, cmap='Greens', alpha=.5)\n",
    "CB = plt.colorbar(CS, shrink=0.8)\n",
    "ax.scatter(*features_2D.T, c=label_gmm.astype(np.float), s=15, cmap = 'viridis')\n",
    "fig.tight_layout();\n",
    "plt.title(\"GMM Cluster Probabilities with PCA\")"
   ]
  },
  {
   "cell_type": "markdown",
   "metadata": {},
   "source": [
    "## Dimensionality Reduction"
   ]
  },
  {
   "cell_type": "markdown",
   "metadata": {},
   "source": [
    "### PCA"
   ]
  },
  {
   "cell_type": "code",
   "execution_count": 74,
   "metadata": {},
   "outputs": [],
   "source": [
    "pca = PCA(n_components=2)\n",
    "features_2D = pca.fit_transform(M)"
   ]
  },
  {
   "cell_type": "code",
   "execution_count": 75,
   "metadata": {},
   "outputs": [
    {
     "data": {
      "text/plain": [
       "array([[ 1.82664043, -1.22613604],\n",
       "       [-1.06244655,  0.14952922],\n",
       "       [-1.28039643,  0.24202363],\n",
       "       [-0.84068738, -1.74707243],\n",
       "       [-0.31682758, -1.08517411],\n",
       "       [-0.62649705, -1.84773399],\n",
       "       [-0.763     , -1.74587244],\n",
       "       [-1.05786562,  0.1378225 ],\n",
       "       [-1.87308005, -0.31582002],\n",
       "       [ 0.24253496,  0.99680318],\n",
       "       [-0.41432108, -1.06657894],\n",
       "       [ 1.83463849,  0.19596341],\n",
       "       [-0.7920827 ,  0.02828273],\n",
       "       [-0.44056876, -1.01150795],\n",
       "       [-1.05016869, -1.62237557],\n",
       "       [ 2.03018909,  0.08368695],\n",
       "       [-1.00807285,  1.56984577],\n",
       "       [-0.26797605,  0.63638173],\n",
       "       [-0.8664121 ,  0.02728477],\n",
       "       [ 2.38197906, -0.03957332],\n",
       "       [-0.13669573,  1.18052208],\n",
       "       [-1.1643813 , -0.61169902],\n",
       "       [ 0.95861559,  0.69941854],\n",
       "       [-0.2009879 , -1.155487  ],\n",
       "       [ 1.53635818, -1.91719528],\n",
       "       [ 1.96110747,  0.13252937],\n",
       "       [ 1.24144767, -0.02371865],\n",
       "       [-0.52482487, -0.43935461],\n",
       "       [ 1.33456476, -0.41419925],\n",
       "       [-0.65535771, -0.02648694],\n",
       "       [ 0.22985451, -0.81006871],\n",
       "       [-1.39109973,  1.16345766],\n",
       "       [-0.52366335,  1.33172804],\n",
       "       [ 1.96126967,  0.19266351],\n",
       "       [-1.7681864 , -0.37172494],\n",
       "       [-1.34580993,  0.84523105],\n",
       "       [ 0.42754444,  1.73091138],\n",
       "       [-0.05140041,  1.11503618],\n",
       "       [-0.24249072, -0.57544375],\n",
       "       [-1.15590125, -0.69339898],\n",
       "       [-1.16747325, -1.53516993],\n",
       "       [ 0.85174575,  0.65213783],\n",
       "       [-0.82690113,  0.63152295],\n",
       "       [-1.13020804, -0.69128591],\n",
       "       [-0.33746423, -0.51724033],\n",
       "       [-1.05720626, -0.1857597 ],\n",
       "       [ 0.56770875, -0.66908622],\n",
       "       [-1.80995441,  0.50092876],\n",
       "       [ 0.29103876, -1.29444014],\n",
       "       [ 0.66393763, -1.5550896 ],\n",
       "       [ 0.4879513 , -0.60106919],\n",
       "       [-1.62398296,  0.99745246],\n",
       "       [ 0.32345643,  0.99337646],\n",
       "       [ 2.03868921,  0.0930965 ],\n",
       "       [ 0.29710229,  0.90379065],\n",
       "       [ 0.30326348, -1.40527952],\n",
       "       [-0.28632546,  2.08756081],\n",
       "       [ 0.82311267,  0.16845995],\n",
       "       [-1.50218888,  0.93437526],\n",
       "       [ 0.3106571 ,  0.37617519],\n",
       "       [ 1.88555596, -0.64965814],\n",
       "       [ 0.63640889,  1.62925581],\n",
       "       [-0.28053404,  1.25783582],\n",
       "       [-0.61376913,  1.36345905],\n",
       "       [-0.01095596, -0.38608677],\n",
       "       [ 0.27703585, -0.74873633],\n",
       "       [ 0.01204684,  0.49476503],\n",
       "       [-0.33712672,  0.36997603],\n",
       "       [-1.02398909, -0.68592318],\n",
       "       [ 2.61942162, -0.16311962],\n",
       "       [-0.96585173,  0.97648083],\n",
       "       [ 0.02825879, -2.11583917],\n",
       "       [-0.53198659, -1.8845885 ],\n",
       "       [ 0.67128885, -0.95998285],\n",
       "       [ 1.01116593,  1.48160472],\n",
       "       [ 0.79445062,  0.73491824],\n",
       "       [ 0.45504661, -0.62290134],\n",
       "       [ 2.03852792,  0.09641916],\n",
       "       [ 1.04895731, -0.90260829],\n",
       "       [ 0.64791773, -0.13418707],\n",
       "       [-0.70992909,  0.85160031],\n",
       "       [-2.51854594, -0.03538627],\n",
       "       [-0.1771637 , -1.19163133],\n",
       "       [ 1.15529855,  0.49077276],\n",
       "       [-0.53869664, -1.01379596],\n",
       "       [-0.68402223,  0.83897875],\n",
       "       [-1.01059548, -1.63754269],\n",
       "       [-1.45629634,  0.35246909],\n",
       "       [ 2.04188426,  0.11289297],\n",
       "       [ 0.02220061, -0.6698763 ],\n",
       "       [-1.82063779, -0.33482146],\n",
       "       [ 0.61286986,  1.66690623],\n",
       "       [ 1.971237  , -1.27773785],\n",
       "       [ 1.73803126, -0.5805426 ],\n",
       "       [-1.1543323 ,  0.20316802],\n",
       "       [-0.15782881,  1.15532136],\n",
       "       [ 1.23884042, -1.75025585],\n",
       "       [ 0.97705485, -0.81189107],\n",
       "       [ 2.65395666,  0.76653263],\n",
       "       [ 2.14447576,  0.03355842],\n",
       "       [ 0.63086937,  1.64299645],\n",
       "       [ 0.34369974, -0.56100355],\n",
       "       [ 0.17601964, -1.34802507],\n",
       "       [-2.22371603, -0.17352419],\n",
       "       [ 2.0649137 ,  1.01976719],\n",
       "       [-0.3633486 ,  1.24416776],\n",
       "       [-1.1268351 , -0.69434444],\n",
       "       [-0.42699639, -0.12828113],\n",
       "       [-0.58882991,  2.22732858],\n",
       "       [-0.79439404, -0.83379996],\n",
       "       [-0.92304862,  0.92577373],\n",
       "       [-0.6705488 , -0.38076594],\n",
       "       [-0.29690246,  1.21271487],\n",
       "       [ 0.00969744,  0.19035789],\n",
       "       [ 0.21703619, -0.8013746 ],\n",
       "       [-0.15836592,  0.60288182],\n",
       "       [-1.7252393 ,  1.04042402],\n",
       "       [-0.98205314, -1.66755378],\n",
       "       [ 1.23465114,  0.44733415],\n",
       "       [ 0.85373932, -0.75142241],\n",
       "       [-0.17628492, -1.08797996],\n",
       "       [ 1.43452831,  1.27590283],\n",
       "       [-0.66841804, -0.86936396],\n",
       "       [-0.39219044, -1.92439044],\n",
       "       [ 0.85331955,  0.64333439],\n",
       "       [ 2.71745134, -0.20309475],\n",
       "       [-0.68839115,  0.8522226 ],\n",
       "       [-1.02066847,  0.68934807],\n",
       "       [ 1.17619965,  0.60707937],\n",
       "       [-0.9675072 , -1.68674371],\n",
       "       [-0.99720262, -1.61231136],\n",
       "       [ 1.00167066,  0.6892822 ],\n",
       "       [-0.33461251,  1.25149791],\n",
       "       [-0.16645128, -1.09866163],\n",
       "       [ 1.01981307, -0.85281647],\n",
       "       [-1.10183089,  1.61777071],\n",
       "       [-0.05196249, -0.3768198 ],\n",
       "       [ 0.60496322, -0.68815063],\n",
       "       [ 0.07556581,  1.91120048],\n",
       "       [-1.73401057, -1.30124905],\n",
       "       [-0.24399124,  2.04356113],\n",
       "       [ 0.9114277 , -0.19394901],\n",
       "       [-0.35608469,  2.10902997],\n",
       "       [-0.21915682,  2.07369949],\n",
       "       [-0.47982355,  0.71977797],\n",
       "       [-2.31798621, -0.12538191],\n",
       "       [ 0.60405624, -0.10743742],\n",
       "       [ 1.53707495,  0.30922772],\n",
       "       [-0.35732685,  0.33960865],\n",
       "       [-0.77817114, -0.01179038],\n",
       "       [-0.0661342 ,  1.96808147],\n",
       "       [-1.1305978 ,  1.04314219],\n",
       "       [-1.58006911,  0.95929084],\n",
       "       [-0.10726795,  0.25138586],\n",
       "       [ 0.20409658,  1.00335317],\n",
       "       [-1.30111626,  0.25407101],\n",
       "       [ 0.58375299,  1.66299189],\n",
       "       [-0.4953389 , -0.08137948],\n",
       "       [-0.82111891, -0.87441521],\n",
       "       [ 0.74864697, -0.17368072],\n",
       "       [-0.69884104, -1.80401551],\n",
       "       [ 0.56342142,  0.77287092],\n",
       "       [-0.86050333,  0.63439343],\n",
       "       [ 2.86061459, -0.26059671],\n",
       "       [ 1.54045954,  1.23257443],\n",
       "       [-0.44935406, -0.12530132],\n",
       "       [ 0.39001383, -1.39002753],\n",
       "       [-1.12031034, -1.58121883],\n",
       "       [ 1.04694798, -0.27261403],\n",
       "       [ 0.87306816, -0.82633667],\n",
       "       [-0.46895079, -1.90483144],\n",
       "       [-0.49327116,  1.31232166],\n",
       "       [ 0.30739557, -0.80880662],\n",
       "       [ 0.99332181, -0.26612702],\n",
       "       [ 0.41217876,  1.75370341],\n",
       "       [ 0.02230871, -0.37905136],\n",
       "       [ 0.08744051,  1.90127973],\n",
       "       [-0.68795815, -0.87571542],\n",
       "       [-1.27218902, -0.60499775],\n",
       "       [-1.25610082, -1.50732046],\n",
       "       [ 2.40941649, -0.0674884 ],\n",
       "       [-1.19626755, -1.5457296 ],\n",
       "       [ 1.01981725, -0.31154052],\n",
       "       [ 1.5116129 ,  0.33630448],\n",
       "       [ 2.82153595, -1.6564892 ],\n",
       "       [ 0.476558  , -0.8513085 ],\n",
       "       [-1.26713322,  1.10433984],\n",
       "       [-0.63242635,  0.797557  ],\n",
       "       [ 1.44447015,  1.35303906],\n",
       "       [ 0.44127903,  1.77715009],\n",
       "       [-0.28828099,  0.66940544],\n",
       "       [-0.1874213 ,  0.56965345],\n",
       "       [-1.47292658,  0.36440801],\n",
       "       [-2.17096609,  0.66064473],\n",
       "       [ 1.91514083, -1.22627071],\n",
       "       [-0.66145679, -0.94705456],\n",
       "       [-0.34112908, -0.20702663],\n",
       "       [-2.05248681, -0.25269954],\n",
       "       [-0.25888817,  0.3465355 ],\n",
       "       [ 0.47848765, -0.04926681]])"
      ]
     },
     "execution_count": 75,
     "metadata": {},
     "output_type": "execute_result"
    }
   ],
   "source": [
    "features_2D"
   ]
  },
  {
   "cell_type": "code",
   "execution_count": null,
   "metadata": {},
   "outputs": [],
   "source": [
    "ev1, ev2 = pca.explained_variance_ratio_\n",
    "ax = plt.figure().gca(title='2D Projection for True Values Dimensionality Reduction', \n",
    "                      xlabel='Explained Variance: {:.2%}'.format(ev1), \n",
    "                      ylabel='Explained Variance: {:.2%}'.format(ev2))\n",
    "ax.scatter(*features_2D.T, c= y.astype(np.float), s=10);"
   ]
  },
  {
   "cell_type": "code",
   "execution_count": null,
   "metadata": {},
   "outputs": [],
   "source": [
    "plt.plot(range(4), pca.explained_variance_ratio_)\n",
    "plt.plot(range(4), np.cumsum(pca.explained_variance_ratio_))\n",
    "plt.title(\"Component-wise and Cumulative Explained Variance\")\n",
    "plt.show()"
   ]
  },
  {
   "cell_type": "markdown",
   "metadata": {},
   "source": [
    "In the above graph, the blue line represents component-wise explained variance while the orange line represents the cumulative explained variance. We are able to explain around 70% variance in the dataset using just two components. Let us now try to visualize each of these decomposed components:"
   ]
  },
  {
   "cell_type": "markdown",
   "metadata": {},
   "source": [
    "The singular values corresponding to each of the selected components. The singular values are equal to the 2-norms of the n_components variables in the lower-dimensional space."
   ]
  },
  {
   "cell_type": "code",
   "execution_count": null,
   "metadata": {},
   "outputs": [],
   "source": [
    "pca.singular_values_"
   ]
  },
  {
   "cell_type": "markdown",
   "metadata": {},
   "source": [
    "### ICA"
   ]
  },
  {
   "cell_type": "code",
   "execution_count": null,
   "metadata": {},
   "outputs": [],
   "source": [
    "ica = FastICA(n_components=3)\n",
    "S_ = ica.fit_transform(M)\n",
    "\n",
    "# For comparison, compute PCA\n",
    "pca = PCA(n_components=2)\n",
    "H = pca.fit_transform(M)  # Reconstruct signals based on orthogonal components"
   ]
  },
  {
   "cell_type": "code",
   "execution_count": null,
   "metadata": {},
   "outputs": [],
   "source": [
    "plt.figure(figsize=(8,5))\n",
    "plt.title('ICA Components')\n",
    "plt.scatter(S_[:,0], S_[:,1])\n",
    "plt.scatter(S_[:,1], S_[:,2])\n",
    "plt.scatter(S_[:,2], S_[:,0])"
   ]
  },
  {
   "cell_type": "markdown",
   "metadata": {},
   "source": [
    "The data has been separated into different independent components which can be seen very clearly in the above image. X-axis and Y-axis represent the value of decomposed independent components."
   ]
  },
  {
   "cell_type": "markdown",
   "metadata": {},
   "source": [
    "### Singular Value Decomposition"
   ]
  },
  {
   "cell_type": "markdown",
   "metadata": {},
   "source": [
    "We can also use Singular Value Decomposition (SVD) to decompose our original dataset into its constituents, resulting in dimensionality reduction. To learn the mathematics behind SVD, refer to this article.\n",
    "\n",
    "SVD decomposes the original variables into three constituent matrices. It is essentially used to remove redundant features from the dataset. It uses the concept of Eigenvalues and Eigenvectors to determine those three matrices. We will not go into the mathematics of it due to the scope of this article, but let’s stick to our plan, i.e. reducing the dimensions in our dataset.\n",
    "\n",
    "Let’s implement SVD and decompose our original variables:"
   ]
  },
  {
   "cell_type": "code",
   "execution_count": null,
   "metadata": {},
   "outputs": [],
   "source": [
    "svd = TruncatedSVD(n_components=3, random_state=42).fit_transform(M)"
   ]
  },
  {
   "cell_type": "code",
   "execution_count": null,
   "metadata": {},
   "outputs": [],
   "source": [
    "plt.figure(figsize=(12,8))\n",
    "plt.title('SVD Components')\n",
    "plt.scatter(svd[:,0], svd[:,1])\n",
    "plt.scatter(svd[:,1], svd[:,2])\n",
    "plt.scatter(svd[:,2],svd[:,0])"
   ]
  },
  {
   "cell_type": "markdown",
   "metadata": {},
   "source": [
    "### Random Projection"
   ]
  },
  {
   "cell_type": "code",
   "execution_count": null,
   "metadata": {},
   "outputs": [],
   "source": [
    "from sklearn import manifold \n",
    "trans_data = manifold.Isomap(n_neighbors=5, n_components=3, n_jobs=-1).fit_transform(M)"
   ]
  },
  {
   "cell_type": "code",
   "execution_count": null,
   "metadata": {},
   "outputs": [],
   "source": [
    "plt.figure(figsize=(12,8))\n",
    "plt.title('Decomposition using Random Projection')\n",
    "plt.scatter(trans_data[:,0], trans_data[:,1])\n",
    "plt.scatter(trans_data[:,1], trans_data[:,2])\n",
    "plt.scatter(trans_data[:,2], trans_data[:,0])"
   ]
  },
  {
   "cell_type": "markdown",
   "metadata": {},
   "source": [
    "## Apply Clustering Algorithms to Dimensionality Reduction Data"
   ]
  },
  {
   "cell_type": "markdown",
   "metadata": {},
   "source": [
    "### K-means Clustering with Dimensionality (PCA, ICA, Random, SVD)"
   ]
  },
  {
   "cell_type": "code",
   "execution_count": null,
   "metadata": {},
   "outputs": [],
   "source": [
    "pca = PCA(n_components=4)\n",
    "A = pca.fit_transform(M)"
   ]
  },
  {
   "cell_type": "code",
   "execution_count": null,
   "metadata": {},
   "outputs": [],
   "source": [
    "A"
   ]
  },
  {
   "cell_type": "code",
   "execution_count": null,
   "metadata": {},
   "outputs": [],
   "source": [
    "clusterNum = 2\n",
    "k_means = KMeans(init = \"random\", n_clusters = clusterNum, n_init = 10)\n",
    "k_means.fit(A)\n",
    "label_A = k_means.labels_\n",
    "print(label_A[0:5])\n"
   ]
  },
  {
   "cell_type": "code",
   "execution_count": null,
   "metadata": {},
   "outputs": [],
   "source": [
    "fig = plt.figure(1, figsize=(8, 6))\n",
    "plt.clf()\n",
    "ax = Axes3D(fig, rect=[0, 0, .95, 1], elev=48, azim=134)\n",
    "\n",
    "plt.cla()\n",
    "# plt.ylabel('Age', fontsize=18)\n",
    "# plt.xlabel('Income', fontsize=16)\n",
    "# plt.zlabel('Education', fontsize=16)\n",
    "ax.set_xlabel('Component 1')\n",
    "ax.set_ylabel('Component 2')\n",
    "ax.set_zlabel('Component 3')\n",
    "\n",
    "ax.scatter(A[:, 0], A[:, 1], A[:, 2], c= label_A.astype(np.float))\n",
    "plt.title(\"3-D K-Means with PCA Dimensionality Reduction\", loc = \"left\")\n",
    "#plt.legend()"
   ]
  },
  {
   "cell_type": "code",
   "execution_count": null,
   "metadata": {},
   "outputs": [],
   "source": [
    "ica = FastICA(n_components=4)\n",
    "B = ica.fit_transform(M)\n"
   ]
  },
  {
   "cell_type": "code",
   "execution_count": null,
   "metadata": {},
   "outputs": [],
   "source": [
    "clusterNum = 2\n",
    "k_meanB = KMeans(init = \"random\", n_clusters = clusterNum, n_init = 10)\n",
    "k_meanB.fit(B)\n",
    "label_B = k_meanB.labels_\n",
    "print(label_B[0:5])"
   ]
  },
  {
   "cell_type": "code",
   "execution_count": null,
   "metadata": {},
   "outputs": [],
   "source": [
    "fig = plt.figure(1, figsize=(8, 6))\n",
    "plt.clf()\n",
    "ax = Axes3D(fig, rect=[0, 0, .95, 1], elev=48, azim=134)\n",
    "\n",
    "plt.cla()\n",
    "# plt.ylabel('Age', fontsize=18)\n",
    "# plt.xlabel('Income', fontsize=16)\n",
    "# plt.zlabel('Education', fontsize=16)\n",
    "ax.set_xlabel('Component 1')\n",
    "ax.set_ylabel('Component 2')\n",
    "ax.set_zlabel('Component 3')\n",
    "\n",
    "ax.scatter(B[:, 0], B[:, 1], B[:, 2], c= label_B.astype(np.float))\n",
    "plt.title(\"3-D K-Means with ICA Dimensionality Reduction\", loc = \"left\")\n",
    "#plt.legend()"
   ]
  },
  {
   "cell_type": "code",
   "execution_count": null,
   "metadata": {},
   "outputs": [],
   "source": [
    "clusterNum = 2\n",
    "k_meanC = KMeans(init = \"random\", n_clusters = clusterNum, n_init = 10)\n",
    "k_meanC.fit(svd)\n",
    "label_C = k_meanC.labels_\n",
    "print(label_C[0:5])"
   ]
  },
  {
   "cell_type": "code",
   "execution_count": null,
   "metadata": {},
   "outputs": [],
   "source": [
    "fig = plt.figure(1, figsize=(8, 6))\n",
    "plt.clf()\n",
    "ax = Axes3D(fig, rect=[0, 0, .95, 1], elev=48, azim=134)\n",
    "\n",
    "plt.cla()\n",
    "# plt.ylabel('Age', fontsize=18)\n",
    "# plt.xlabel('Income', fontsize=16)\n",
    "# plt.zlabel('Education', fontsize=16)\n",
    "ax.set_xlabel('Component 1')\n",
    "ax.set_ylabel('Component 2')\n",
    "ax.set_zlabel('Component 3')\n",
    "\n",
    "ax.scatter(svd[:, 0], svd[:, 1], svd[:, 2], c= label_C.astype(np.float))\n",
    "plt.title(\"3-D K-Means with SVD Dimensionality Reduction\", loc = \"left\")\n",
    "#plt.legend()"
   ]
  },
  {
   "cell_type": "code",
   "execution_count": null,
   "metadata": {},
   "outputs": [],
   "source": [
    "clusterNum = 2\n",
    "k_meanD = KMeans(init = \"random\", n_clusters = clusterNum, n_init = 10)\n",
    "k_meanD.fit(trans_data)\n",
    "label_D = k_meanD.labels_\n",
    "print(label_D[0:5])"
   ]
  },
  {
   "cell_type": "code",
   "execution_count": null,
   "metadata": {},
   "outputs": [],
   "source": [
    "fig = plt.figure(1, figsize=(8, 6))\n",
    "plt.clf()\n",
    "ax = Axes3D(fig, rect=[0, 0, .95, 1], elev=48, azim=134)\n",
    "\n",
    "plt.cla()\n",
    "# plt.ylabel('Age', fontsize=18)\n",
    "# plt.xlabel('Income', fontsize=16)\n",
    "# plt.zlabel('Education', fontsize=16)\n",
    "ax.set_xlabel('Component 1')\n",
    "ax.set_ylabel('Component 2')\n",
    "ax.set_zlabel('Component 3')\n",
    "\n",
    "ax.scatter(trans_data[:, 0], trans_data[:, 1], trans_data[:, 2], c= label_C.astype(np.float))\n",
    "plt.title(\"3-D K-Means with Random Projection Dimensionality Reduction\", loc = \"left\")\n",
    "#plt.legend()"
   ]
  },
  {
   "cell_type": "markdown",
   "metadata": {},
   "source": [
    "### Expectation Maximization with Dimesionality (PCA, ICA, Random Project, SVD)"
   ]
  },
  {
   "cell_type": "code",
   "execution_count": null,
   "metadata": {},
   "outputs": [],
   "source": [
    "gmm = GaussianMixture(n_components = 2)\n",
    "gmm.fit(A)\n",
    "labelA_gmm = gmm.predict(A)"
   ]
  },
  {
   "cell_type": "code",
   "execution_count": null,
   "metadata": {},
   "outputs": [],
   "source": [
    "labelA_gmm[0:5]"
   ]
  },
  {
   "cell_type": "code",
   "execution_count": null,
   "metadata": {},
   "outputs": [],
   "source": [
    "fig = plt.figure(1, figsize=(8, 6))\n",
    "plt.clf()\n",
    "ax = Axes3D(fig, rect=[0, 0, .95, 1], elev=48, azim=134)\n",
    "\n",
    "plt.cla()\n",
    "# plt.ylabel('Age', fontsize=18)\n",
    "# plt.xlabel('Income', fontsize=16)\n",
    "# plt.zlabel('Education', fontsize=16)\n",
    "ax.set_xlabel('Component 1')\n",
    "ax.set_ylabel('Component 2')\n",
    "ax.set_zlabel('Component 3')\n",
    "\n",
    "ax.scatter(A[:, 0], A[:, 1], A[:, 2], c= labelA_gmm.astype(np.float))\n",
    "plt.title(\"3-D Expectation Maximization with PCA Dimensionality Reduction\", loc = \"left\")\n",
    "#plt.legend()"
   ]
  },
  {
   "cell_type": "code",
   "execution_count": null,
   "metadata": {},
   "outputs": [],
   "source": []
  },
  {
   "cell_type": "code",
   "execution_count": null,
   "metadata": {},
   "outputs": [],
   "source": [
    "gmm = GaussianMixture(n_components = 2)\n",
    "gmm.fit(B)\n",
    "labelB_gmm = gmm.predict(B)"
   ]
  },
  {
   "cell_type": "code",
   "execution_count": null,
   "metadata": {},
   "outputs": [],
   "source": [
    "labelB_gmm[0:5]"
   ]
  },
  {
   "cell_type": "code",
   "execution_count": null,
   "metadata": {},
   "outputs": [],
   "source": [
    "fig = plt.figure(1, figsize=(8, 6))\n",
    "plt.clf()\n",
    "ax = Axes3D(fig, rect=[0, 0, .95, 1], elev=48, azim=134)\n",
    "\n",
    "plt.cla()\n",
    "# plt.ylabel('Age', fontsize=18)\n",
    "# plt.xlabel('Income', fontsize=16)\n",
    "# plt.zlabel('Education', fontsize=16)\n",
    "ax.set_xlabel('Component 1')\n",
    "ax.set_ylabel('Component 2')\n",
    "ax.set_zlabel('Component 3')\n",
    "\n",
    "ax.scatter(B[:, 0], B[:, 1], B[:, 2], c= labelB_gmm.astype(np.float))\n",
    "plt.title(\"3-D Expectation Maximization with ICA Dimensionality Reduction\", loc = \"left\")\n",
    "#plt.legend()"
   ]
  },
  {
   "cell_type": "code",
   "execution_count": null,
   "metadata": {},
   "outputs": [],
   "source": []
  },
  {
   "cell_type": "code",
   "execution_count": null,
   "metadata": {},
   "outputs": [],
   "source": [
    "gmm = GaussianMixture(n_components = 2)\n",
    "gmm.fit(svd)\n",
    "labelsvd_gmm = gmm.predict(svd)"
   ]
  },
  {
   "cell_type": "code",
   "execution_count": null,
   "metadata": {},
   "outputs": [],
   "source": [
    "labelsvd_gmm[0:5]"
   ]
  },
  {
   "cell_type": "code",
   "execution_count": null,
   "metadata": {},
   "outputs": [],
   "source": [
    "fig = plt.figure(1, figsize=(8, 6))\n",
    "plt.clf()\n",
    "ax = Axes3D(fig, rect=[0, 0, .95, 1], elev=48, azim=134)\n",
    "\n",
    "plt.cla()\n",
    "# plt.ylabel('Age', fontsize=18)\n",
    "# plt.xlabel('Income', fontsize=16)\n",
    "# plt.zlabel('Education', fontsize=16)\n",
    "ax.set_xlabel('Component 1')\n",
    "ax.set_ylabel('Component 2')\n",
    "ax.set_zlabel('Component 3')\n",
    "\n",
    "ax.scatter(svd[:, 0], svd[:, 1], svd[:, 2], c= labelsvd_gmm.astype(np.float))\n",
    "plt.title(\"3-D Expectation Maximization with SVD Dimensionality Reduction\", loc = \"left\")\n",
    "#plt.legend()"
   ]
  },
  {
   "cell_type": "code",
   "execution_count": null,
   "metadata": {},
   "outputs": [],
   "source": []
  },
  {
   "cell_type": "code",
   "execution_count": null,
   "metadata": {},
   "outputs": [],
   "source": []
  },
  {
   "cell_type": "code",
   "execution_count": null,
   "metadata": {},
   "outputs": [],
   "source": [
    "gmm = GaussianMixture(n_components = 2)\n",
    "gmm.fit(trans_data)\n",
    "labelD_gmm = gmm.predict(trans_data)"
   ]
  },
  {
   "cell_type": "code",
   "execution_count": null,
   "metadata": {},
   "outputs": [],
   "source": [
    "labelD_gmm[0:5]"
   ]
  },
  {
   "cell_type": "code",
   "execution_count": null,
   "metadata": {},
   "outputs": [],
   "source": [
    "fig = plt.figure(1, figsize=(8, 6))\n",
    "plt.clf()\n",
    "ax = Axes3D(fig, rect=[0, 0, .95, 1], elev=48, azim=134)\n",
    "\n",
    "plt.cla()\n",
    "# plt.ylabel('Age', fontsize=18)\n",
    "# plt.xlabel('Income', fontsize=16)\n",
    "# plt.zlabel('Education', fontsize=16)\n",
    "ax.set_xlabel('Component 1')\n",
    "ax.set_ylabel('Component 2')\n",
    "ax.set_zlabel('Component 3')\n",
    "\n",
    "ax.scatter(trans_data[:, 0], trans_data[:, 1], trans_data[:, 2], c= labelD_gmm.astype(np.float))\n",
    "plt.title(\"3-D Expectation Maximization with Random Projection Dimensionality Reduction\", loc = \"left\")\n",
    "#plt.legend()"
   ]
  },
  {
   "cell_type": "markdown",
   "metadata": {},
   "source": [
    "### Apply Neural Networks to Dimesionality Reduction Data"
   ]
  },
  {
   "cell_type": "code",
   "execution_count": null,
   "metadata": {},
   "outputs": [],
   "source": [
    "X_train, X_test, y_train, y_test = train_test_split(A, y, test_size=0.3, random_state=3)\n",
    "\n",
    "mlp = MLPClassifier(hidden_layer_sizes=(9,9),max_iter=500, solver='lbfgs')\n",
    "mlp.fit(X_train,y_train)\n",
    "predictions = mlp.predict(X_test)\n",
    "print(classification_report(y_test,predictions))\n",
    "print(\"Neural Network (PCA) Accuracy: \", metrics.accuracy_score(y_test, predictions))"
   ]
  },
  {
   "cell_type": "code",
   "execution_count": null,
   "metadata": {},
   "outputs": [],
   "source": [
    "B_train, B_test, b_train, b_test = train_test_split(B, y, test_size=0.3, random_state=3)\n",
    "\n",
    "mlpB = MLPClassifier(hidden_layer_sizes=(9,9),max_iter=500, solver='lbfgs')\n",
    "mlpB.fit(B_train,b_train)\n",
    "predictionsB = mlpB.predict(B_test)\n",
    "print(classification_report(b_test,predictionsB))\n",
    "print(\"Neural Network (ICA) Accuracy: \", metrics.accuracy_score(b_test, predictionsB))"
   ]
  },
  {
   "cell_type": "code",
   "execution_count": null,
   "metadata": {},
   "outputs": [],
   "source": [
    "S_train, S_test, s_train, s_test = train_test_split(svd, y, test_size=0.3, random_state=3)\n",
    "\n",
    "mlpS = MLPClassifier(hidden_layer_sizes=(9,9),max_iter=500, solver='lbfgs')\n",
    "mlpS.fit(S_train,s_train)\n",
    "predictionsS = mlpS.predict(S_test)\n",
    "print(classification_report(s_test,predictionsS))\n",
    "print(\"Neural Network (SVD) Accuracy: \", metrics.accuracy_score(s_test, predictionsS))"
   ]
  },
  {
   "cell_type": "code",
   "execution_count": null,
   "metadata": {},
   "outputs": [],
   "source": [
    "T_train, T_test, t_train, t_test = train_test_split(trans_data, y, test_size=0.3, random_state=3)\n",
    "\n",
    "mlpT = MLPClassifier(hidden_layer_sizes=(9,9),max_iter=500, solver='lbfgs')\n",
    "mlpT.fit(T_train,t_train)\n",
    "predictionsT = mlpT.predict(T_test)\n",
    "print(classification_report(t_test,predictionsT))\n",
    "print(\"Neural Network (Random Projection) Accuracy: \", metrics.accuracy_score(t_test, predictionsT))"
   ]
  },
  {
   "cell_type": "markdown",
   "metadata": {},
   "source": [
    "### Using Clustering Data for Neural Networks"
   ]
  },
  {
   "cell_type": "code",
   "execution_count": null,
   "metadata": {},
   "outputs": [],
   "source": [
    "cancer.head(5)"
   ]
  },
  {
   "cell_type": "code",
   "execution_count": null,
   "metadata": {},
   "outputs": [],
   "source": [
    "cancer.drop(columns = ['Class'], inplace = True)"
   ]
  },
  {
   "cell_type": "code",
   "execution_count": null,
   "metadata": {},
   "outputs": [],
   "source": [
    "cancer.head(5)"
   ]
  },
  {
   "cell_type": "markdown",
   "metadata": {},
   "source": [
    "Use label features \"Class_km\" and \"Clus_gmm\" for dataset and standardized dataset"
   ]
  },
  {
   "cell_type": "code",
   "execution_count": null,
   "metadata": {},
   "outputs": [],
   "source": [
    "feature_nn = cancer[['Clump', 'UnifSize', 'UnifShape', 'MargAdh', 'SingEpiSize', 'BareNuc', 'BlandChrom', 'NormNucl', 'Mit','Clus_km', 'Clus_gmm']]\n",
    "J = np.asarray(feature_nn)\n",
    "K = StandardScaler().fit_transform(J)\n",
    "K[0:5]"
   ]
  },
  {
   "cell_type": "code",
   "execution_count": null,
   "metadata": {},
   "outputs": [],
   "source": [
    "K_train, K_test, k_train, k_test = train_test_split(K, y, test_size=0.3, random_state=3)\n",
    "\n",
    "mlpK = MLPClassifier(hidden_layer_sizes=(9,9),max_iter=500, solver='lbfgs')\n",
    "mlpK.fit(K_train,k_train)\n",
    "predictionsK = mlpK.predict(K_test)\n",
    "print(classification_report(k_test,predictionsK))\n",
    "print(\"Neural Network (SVD) Accuracy: \", metrics.accuracy_score(k_test, predictionsK))"
   ]
  },
  {
   "cell_type": "code",
   "execution_count": null,
   "metadata": {},
   "outputs": [],
   "source": []
  }
 ],
 "metadata": {
  "kernelspec": {
   "display_name": "Python 3",
   "language": "python",
   "name": "python3"
  },
  "language_info": {
   "codemirror_mode": {
    "name": "ipython",
    "version": 3
   },
   "file_extension": ".py",
   "mimetype": "text/x-python",
   "name": "python",
   "nbconvert_exporter": "python",
   "pygments_lexer": "ipython3",
   "version": "3.7.1"
  }
 },
 "nbformat": 4,
 "nbformat_minor": 2
}
